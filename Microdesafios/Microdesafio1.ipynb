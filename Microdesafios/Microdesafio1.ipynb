{
 "cells": [
  {
   "cell_type": "markdown",
   "metadata": {},
   "source": [
    "##### Consigna\n",
    "Utilizando Chat-GPT de Open AI, encontrar un ejemplo en el cual el chat no ofrece información y tomar una captura de pantalla del resultado.\n",
    "##### Objetivo\n",
    "Debes desarrollar un prompt para que ChatGPT pueda analizar la converzacion de un grupo de chat para poder expresar dicho resumen a alguien que no esta presente.\n",
    "#### Solucion"
   ]
  },
  {
   "cell_type": "markdown",
   "metadata": {},
   "source": [
    "### Prompt\n",
    "\n",
    "**¿Quien es el dueño de twitter, en 2024?**\n",
    "\n",
    "### Respuesta\n",
    "\n",
    "**Hasta mi última actualización en enero de 2022, no tengo información actualizada sobre eventos o cambios que hayan ocurrido después de esa fecha. Por lo tanto, no puedo proporcionar detalles sobre el dueño actual de Twitter en 2024. Te recomendaría verificar fuentes de noticias recientes o sitios web oficiales para obtener la información más actualizada sobre el estado actual de Twitter y sus propietarios.**"
   ]
  }
 ],
 "metadata": {
  "language_info": {
   "name": "python"
  }
 },
 "nbformat": 4,
 "nbformat_minor": 2
}
