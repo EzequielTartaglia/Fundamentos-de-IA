{
 "cells": [
  {
   "cell_type": "markdown",
   "metadata": {},
   "source": [
    "# Creando contenido auditivo con Generative AI"
   ]
  },
  {
   "cell_type": "markdown",
   "metadata": {},
   "source": [
    "## Herramientas de Generative (Audio)"
   ]
  },
  {
   "cell_type": "markdown",
   "metadata": {},
   "source": [
    "### Riffusion"
   ]
  },
  {
   "cell_type": "markdown",
   "metadata": {},
   "source": [
    "**Prompt utilizado**: En el ritmo del futuro, la innovación es nuestra melodia. Sintoniza con la revolución, donde cada nota es un paso hacia el mañana.\n",
    "\n",
    "**Resultado**:\n",
    "\n",
    "- Link: (https://www.riffusion.com/riffs/ddab1812-a53c-4fa7-bad1-8d5cfb1afdcd)\n",
    "\n"
   ]
  },
  {
   "cell_type": "markdown",
   "metadata": {},
   "source": [
    "### Murf\n",
    "\n",
    "- Crear converzación mediante voces generadas por Inteligencia Artificial\n",
    "\n",
    "- Link de los prompts para generar los audios: (https://murf.ai/studio/project/2/P017050702374965YE?workspaceId=WORKSPACEID016950860693546IX)\n",
    "- Link de la converzacion (audio):  (https://murf.ai/share/ls9jil35)\n",
    "\n",
    "- Frame\n",
    "<iframe class=\"murf-embed\" width=\"560\" height=\"102\"  src=\"https://murf.ai/embeds/index.html?embedId=ls9jgqvj\"  allowfullscreen title=\"Murf Embed Player\" style=\"border: none;\"></iframe>\n",
    "  <script src=\"https://murf.ai/embeds/widget.js\" ></script>"
   ]
  },
  {
   "cell_type": "markdown",
   "metadata": {},
   "source": [
    "### Speechgen IO"
   ]
  },
  {
   "cell_type": "markdown",
   "metadata": {},
   "source": [
    "**Prompt utilizado**: Muy buenos dias estimados estudiantes. Bienvenidos a la clase de generacion de audio por medio de inteligencia artificial. Estoy muy emocionado por ver lo que generaran con esta poderosa herramienta que aprenderemos hoy.\n",
    "\n",
    "**Resultado**:\n",
    "\n",
    "<audio controls src=\"Speechgen IO.mp3\" title=\"Bienvenida\"></audio>\n"
   ]
  },
  {
   "cell_type": "markdown",
   "metadata": {},
   "source": []
  }
 ],
 "metadata": {
  "language_info": {
   "name": "python"
  }
 },
 "nbformat": 4,
 "nbformat_minor": 2
}
