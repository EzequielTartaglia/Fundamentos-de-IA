{
 "cells": [
  {
   "cell_type": "markdown",
   "metadata": {},
   "source": [
    "# La voz como instrumento de comunicación y vehículo de sensaciones"
   ]
  },
  {
   "cell_type": "markdown",
   "metadata": {},
   "source": [
    "### La voz como trasmisor de sensaciones y emociones"
   ]
  },
  {
   "cell_type": "markdown",
   "metadata": {},
   "source": [
    "El dramaturgo Lope de Vega ya lo aventuró, \"mal puede tener la voz tranquila quien tiene el corazón temblando\", y es que las emociones pueden regular nuestro tono de voz, y las palabras siempre que hablamos van acompañadas de nuestras emociones."
   ]
  },
  {
   "cell_type": "markdown",
   "metadata": {},
   "source": [
    "### La pausa\n"
   ]
  },
  {
   "cell_type": "markdown",
   "metadata": {},
   "source": [
    "Las pausas rellenan, adornan y apoyan a nuestra voz, y con ella, a las palabras del discurso. ritmo más pausado y tranquilo permite que el público nos perciba como personas que sabemos de lo que hablamos, que lo entendemos y nos resulta fácil exponer nuestros conocimientos.\n",
    "\n",
    "Ejemplo de la pausa como recurso narrativo: https://www.youtube.com/watch?v=VuhplF0L8AY"
   ]
  },
  {
   "cell_type": "markdown",
   "metadata": {},
   "source": [
    "### Los tonos musicales"
   ]
  },
  {
   "cell_type": "markdown",
   "metadata": {},
   "source": [
    "Los tonos musicales pueden transmitir una amplia variedad de sensaciones y emociones. Aquí hay algunos ejemplos de cómo ciertos tonos pueden influir en la percepción:\n",
    "\n",
    "- Mayor (tono alegre): Transmite felicidad, alegría y optimismo. Es ideal para mensajes positivos, anuncios enérgicos y contenidos motivadores.\n",
    "\n",
    "- Menor (tono melancólico): Evoca emociones más melancólicas, tristes o reflexivas. Puede ser efectivo para contenido emocional, como dramas, narrativas conmovedoras o anuncios que buscan generar empatía.\n",
    "\n",
    "- Rápido (tempo rápido): Genera energía y emoción. Puede ser usado para impulsar la acción, crear anticipación o transmitir un sentido de urgencia.\n",
    "\n",
    "- Lento (tempo lento): Inspira calma, serenidad y contemplación. A menudo se utiliza en contextos más emotivos, como escenas románticas o mensajes que requieren reflexión.\n",
    "\n",
    "- Fuerte (volumen alto): Indica intensidad, emoción y poder. Puede ser útil para anuncios impactantes, trailers de películas o cualquier contenido que busque captar la atención de manera inmediata.\n",
    "\n",
    "- Suave (volumen bajo): Genera una sensación de intimidad, relajación y sutileza. Ideal para situaciones más íntimas, como comerciales de productos relajantes o mensajes tranquilizadores.\n",
    "\n",
    "- Acordes mayores (tono optimista): Transmiten una sensación de positivismo y triunfo. Pueden ser utilizados en campañas publicitarias que resalten logros o éxitos.\n",
    "\n",
    "- Acordes menores (tono dramático): Añaden un toque de dramatismo y tensión. Son efectivos en la creación de atmósferas más oscuras o intrigantes."
   ]
  },
  {
   "cell_type": "markdown",
   "metadata": {},
   "source": []
  }
 ],
 "metadata": {
  "language_info": {
   "name": "python"
  }
 },
 "nbformat": 4,
 "nbformat_minor": 2
}
