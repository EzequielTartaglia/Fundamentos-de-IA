{
 "cells": [
  {
   "cell_type": "markdown",
   "metadata": {},
   "source": [
    "# Directorio de Herramientas de Generative AI (audio)"
   ]
  },
  {
   "cell_type": "markdown",
   "metadata": {},
   "source": [
    "- Riffusion (https://www.riffusion.com/)\n",
    "- Murf (https://murf.ai/studio/login)\n",
    "- Beatoven (https://sync.beatoven.ai/track/2986babe-0e6b-4297-a0fb-6bf43bd4bd1a?)\n",
    "- Good Tape (https://goodtape.io/)\n",
    "- Musicfy (https://create.musicfy.lol/)\n",
    "- Hugging Face (https://huggingface.co/spaces/facebook/MusicGen)\n",
    "\n"
   ]
  },
  {
   "cell_type": "markdown",
   "metadata": {},
   "source": []
  }
 ],
 "metadata": {
  "language_info": {
   "name": "python"
  }
 },
 "nbformat": 4,
 "nbformat_minor": 2
}
