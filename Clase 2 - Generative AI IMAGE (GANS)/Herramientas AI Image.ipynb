{
 "cells": [
  {
   "cell_type": "markdown",
   "metadata": {},
   "source": [
    "# Directorio de Herramientas de Generative AI (text)"
   ]
  },
  {
   "cell_type": "markdown",
   "metadata": {},
   "source": [
    "- Playground AI (https://playground.com/create)\n",
    "- Stable Diffusion Playground (https://stablediffusionweb.com/)\n",
    "- Bing: Dalee (https://www.bing.com/images/create/dalle/646d5ff9260548d9834277850011caa6)"
   ]
  },
  {
   "cell_type": "markdown",
   "metadata": {},
   "source": []
  }
 ],
 "metadata": {
  "language_info": {
   "name": "python"
  }
 },
 "nbformat": 4,
 "nbformat_minor": 2
}
