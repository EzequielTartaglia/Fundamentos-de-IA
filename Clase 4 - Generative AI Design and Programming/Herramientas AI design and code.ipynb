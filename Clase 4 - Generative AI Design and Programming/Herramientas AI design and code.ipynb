{
 "cells": [
  {
   "cell_type": "markdown",
   "metadata": {},
   "source": [
    "# Directorio de Herramientas de Generative AI (design and  code)"
   ]
  },
  {
   "cell_type": "markdown",
   "metadata": {},
   "source": [
    "- Dorico (https://app.dorik.com/)\n",
    "- Framer (https://framer.com/)\n",
    "- Krea (https://www.krea.ai/home)\n",
    "- Code Design (https://dev.codedesign.ai/app/)\n",
    "- Uizard (https://app.uizard.io/prototypes)"
   ]
  },
  {
   "cell_type": "markdown",
   "metadata": {},
   "source": [
    "Herramientas para Mocking (sin IA):\n",
    "\n",
    "- Scallidraw (https://excalidraw.com/)\n",
    "    - Integracion en sitios web (https://docs.excalidraw.com/docs/@excalidraw/excalidraw/integration)"
   ]
  },
  {
   "cell_type": "markdown",
   "metadata": {},
   "source": []
  }
 ],
 "metadata": {
  "language_info": {
   "name": "python"
  }
 },
 "nbformat": 4,
 "nbformat_minor": 2
}
